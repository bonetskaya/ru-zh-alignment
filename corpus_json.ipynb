{
  "nbformat": 4,
  "nbformat_minor": 0,
  "metadata": {
    "colab": {
      "name": "corpus_json.ipynb",
      "provenance": []
    },
    "kernelspec": {
      "name": "python3",
      "display_name": "Python 3"
    }
  },
  "cells": [
    {
      "cell_type": "code",
      "metadata": {
        "id": "boUDf0rRTiQl",
        "outputId": "2a36a259-546b-471a-b975-de1921c0c464",
        "colab": {
          "base_uri": "https://localhost:8080/",
          "height": 34
        }
      },
      "source": [
        "from google.colab import drive\n",
        " \n",
        "drive.mount('/content/drive/')"
      ],
      "execution_count": null,
      "outputs": [
        {
          "output_type": "stream",
          "text": [
            "Mounted at /content/drive/\n"
          ],
          "name": "stdout"
        }
      ]
    },
    {
      "cell_type": "code",
      "metadata": {
        "id": "aZnvXfNHUhum"
      },
      "source": [
        "! cp /content/drive/My\\ Drive/corpus_utils/* ./"
      ],
      "execution_count": null,
      "outputs": []
    },
    {
      "cell_type": "code",
      "metadata": {
        "id": "vfUFSQTKdZPz"
      },
      "source": [
        "! cp ./*.py /content/drive/My\\ Drive/corpus_utils/"
      ],
      "execution_count": null,
      "outputs": []
    },
    {
      "cell_type": "code",
      "metadata": {
        "id": "wS34f2ju6vNQ",
        "outputId": "e1b3a767-f39a-4643-c54d-4fabe85a134b",
        "colab": {
          "base_uri": "https://localhost:8080/",
          "height": 312
        }
      },
      "source": [
        "!wget http://download.cdn.yandex.net/mystem/mystem-3.0-linux3.1-64bit.tar.gz\n",
        "!tar -xvf mystem-3.0-linux3.1-64bit.tar.gz\n",
        "!cp mystem /bin\n",
        "from pymystem3 import Mystem"
      ],
      "execution_count": null,
      "outputs": [
        {
          "output_type": "stream",
          "text": [
            "--2020-09-19 17:43:47--  http://download.cdn.yandex.net/mystem/mystem-3.0-linux3.1-64bit.tar.gz\n",
            "Resolving download.cdn.yandex.net (download.cdn.yandex.net)... 5.45.205.245, 5.45.205.241, 5.45.205.244, ...\n",
            "Connecting to download.cdn.yandex.net (download.cdn.yandex.net)|5.45.205.245|:80... connected.\n",
            "HTTP request sent, awaiting response... 302 Found\n",
            "Location: http://cache-mskm901.cdn.yandex.net/download.cdn.yandex.net/mystem/mystem-3.0-linux3.1-64bit.tar.gz [following]\n",
            "--2020-09-19 17:43:47--  http://cache-mskm901.cdn.yandex.net/download.cdn.yandex.net/mystem/mystem-3.0-linux3.1-64bit.tar.gz\n",
            "Resolving cache-mskm901.cdn.yandex.net (cache-mskm901.cdn.yandex.net)... 5.45.220.11, 2a02:6b8:0:2002::12\n",
            "Connecting to cache-mskm901.cdn.yandex.net (cache-mskm901.cdn.yandex.net)|5.45.220.11|:80... connected.\n",
            "HTTP request sent, awaiting response... 200 OK\n",
            "Length: 16457938 (16M) [application/octet-stream]\n",
            "Saving to: ‘mystem-3.0-linux3.1-64bit.tar.gz.3’\n",
            "\n",
            "mystem-3.0-linux3.1 100%[===================>]  15.70M  6.27MB/s    in 2.5s    \n",
            "\n",
            "2020-09-19 17:43:50 (6.27 MB/s) - ‘mystem-3.0-linux3.1-64bit.tar.gz.3’ saved [16457938/16457938]\n",
            "\n",
            "mystem\n"
          ],
          "name": "stdout"
        }
      ]
    },
    {
      "cell_type": "code",
      "metadata": {
        "id": "Kn0iexI9Tr7T"
      },
      "source": [
        "from structures import *\n",
        "from aligner import *\n",
        "from tokenizer import *\n"
      ],
      "execution_count": null,
      "outputs": []
    },
    {
      "cell_type": "code",
      "metadata": {
        "id": "KbEqad6tbMc-"
      },
      "source": [
        "import glob\n",
        "from parsing import extract_sentences\n",
        "\n",
        "\n",
        "norm_sentences = []\n",
        "\n",
        "for filename in glob.glob('/content/drive/My Drive/corpus_data_json/*/*/*.json'):\n",
        "    norm_sentences += extract_sentences(filename)"
      ],
      "execution_count": null,
      "outputs": []
    },
    {
      "cell_type": "code",
      "metadata": {
        "id": "X1UFbqG-nm-O",
        "outputId": "f0091ddb-4eb4-4987-b24c-5fe73fd978f5",
        "colab": {
          "base_uri": "https://localhost:8080/",
          "height": 34
        }
      },
      "source": [
        "len(norm_sentences)"
      ],
      "execution_count": null,
      "outputs": [
        {
          "output_type": "execute_result",
          "data": {
            "text/plain": [
              "63530"
            ]
          },
          "metadata": {
            "tags": []
          },
          "execution_count": 5
        }
      ]
    },
    {
      "cell_type": "code",
      "metadata": {
        "id": "V4uJvOa2AkLN"
      },
      "source": [
        "def lemmatize_sentences(sentences: List[NormSentences]) -> List[SentencePair]:\n",
        "    lemmatized_sentences = []\n",
        "    mystem_analyzer = Mystem()\n",
        "    indexes_to_delete = []\n",
        "\n",
        "\n",
        "    for i, sentence in enumerate(sentences):\n",
        "        source = list(filter(lambda x : x[0].isalpha() or x[0].isnumeric(),\n",
        "                                mystem_analyzer.lemmatize(sentence.source)))\n",
        "        target = list(filter(lambda x : x[0].isalpha() or x[0].isnumeric(),\n",
        "                                mystem_analyzer.lemmatize(sentence.target)))\n",
        "        if len(source) == 0 or len(target) == 0:\n",
        "            indexes_to_delete.append(i)\n",
        "            continue\n",
        "        lemmatized_sentences.append(SentencePair(source, target))\n",
        "    for i in indexes_to_delete[::-1]:\n",
        "        sentences.pop(i)\n",
        "    return lemmatized_sentences"
      ],
      "execution_count": null,
      "outputs": []
    },
    {
      "cell_type": "code",
      "metadata": {
        "id": "Xewxq5l77HyB"
      },
      "source": [
        "prepared_sentences = lemmatize_sentences(norm_sentences)"
      ],
      "execution_count": null,
      "outputs": []
    },
    {
      "cell_type": "code",
      "metadata": {
        "id": "1DBhR_T3V9hv"
      },
      "source": [
        "from tokenizer import get_token_to_index, tokenize_sents\n",
        "\n",
        "t_idx_src, t_idx_tgt = get_token_to_index(prepared_sentences)\n",
        "tokenized_sentences = tokenize_sents(prepared_sentences,t_idx_src,t_idx_tgt)"
      ],
      "execution_count": null,
      "outputs": []
    },
    {
      "cell_type": "code",
      "metadata": {
        "id": "PAkktSd0Y0lu"
      },
      "source": [
        "from aligner import WordAligner\n",
        "\n",
        "word_aligner = WordAligner(len(t_idx_src), len(t_idx_tgt), 20)\n",
        "word_aligner.fit(tokenized_sentences)\n",
        "aligned = word_aligner.align(tokenized_sentences)"
      ],
      "execution_count": null,
      "outputs": []
    },
    {
      "cell_type": "code",
      "metadata": {
        "id": "s_h1Uwm5cKn7"
      },
      "source": [
        "import os\n",
        "import csv\n",
        "SIZE = 1000\n",
        "\n",
        "with open('hier.csv', 'w') as csvfile:\n",
        "    for j in range(0, len(prepared_sentences), SIZE):\n",
        "        filewriter = csv.writer(csvfile, delimiter=',', quotechar='|', quoting=csv.QUOTE_MINIMAL)\n",
        "        for i in range(j, min(j + 2, len(prepared_sentences))):\n",
        "            ru = []\n",
        "            for idx in aligned[i]:\n",
        "                ru.append(prepared_sentences[i].source[idx[0] - 1])\n",
        "            filewriter.writerow([norm_sentences[i].source.replace(',', '，')])\n",
        "            filewriter.writerow([norm_sentences[i].target.replace(',', '，')])\n",
        "            filewriter.writerow(prepared_sentences[i].target)\n",
        "            filewriter.writerow(ru)\n",
        "            filewriter.writerow([])\n",
        "!cp hier.csv \"drive/My Drive/hieroglyphs/\"\n",
        "os.rename(\"drive/My Drive/hieroglyphs/hier.csv\", \"drive/My Drive/hieroglyphs/hierNEW.csv\")"
      ],
      "execution_count": null,
      "outputs": []
    },
    {
      "cell_type": "code",
      "metadata": {
        "id": "SdMl7wvcm6IC"
      },
      "source": [
        ""
      ],
      "execution_count": null,
      "outputs": []
    }
  ]
}